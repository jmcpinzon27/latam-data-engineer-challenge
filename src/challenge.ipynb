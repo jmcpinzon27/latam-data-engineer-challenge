{
 "cells": [
  {
   "cell_type": "markdown",
   "metadata": {},
   "source": [
    "## LATAM DATA ENGINEER CHALLENGE\n",
    "\n",
    "**Mateo Castellanos**"
   ]
  },
  {
   "cell_type": "markdown",
   "metadata": {},
   "source": [
    "**Configuración global del notebook**\n",
    "\n",
    "- Importación de librerías globales para la lectura de los datos\n",
    "- Definición de la fuente de los datos\n",
    "- Verificación de la existencia de los datos\n"
   ]
  },
  {
   "cell_type": "code",
   "execution_count": 1,
   "metadata": {},
   "outputs": [
    {
     "name": "stdout",
     "output_type": "stream",
     "text": [
      "Using data file: ..\\data\\farmers-protest-tweets-2021-2-4.json\n"
     ]
    }
   ],
   "source": [
    "# Configuración inicial\n",
    "import os\n",
    "from typing import List, Tuple\n",
    "from datetime import datetime\n",
    "import json\n",
    "from collections import defaultdict, Counter\n",
    "import time\n",
    "from memory_profiler import memory_usage\n",
    "\n",
    "# Definir la ruta del archivo de datos\n",
    "data_dir = os.path.join('..', 'data')\n",
    "file_name = 'farmers-protest-tweets-2021-2-4.json'\n",
    "file_path = os.path.join(data_dir, file_name)\n",
    "\n",
    "# Verificar si el archivo existe\n",
    "if not os.path.exists(file_path):\n",
    "    raise FileNotFoundError(f\"The file {file_path} does not exist.\")\n",
    "\n",
    "print(f\"Using data file: {file_path}\")"
   ]
  },
  {
   "cell_type": "markdown",
   "metadata": {},
   "source": [
    "## q1_memory\n",
    "\n",
    "**Enfoque de Optimización de Memoria:**\n",
    "\n",
    "La función `q1_memory` está diseñada para identificar las 10 fechas con más tweets y el usuario más activo en cada una de esas fechas. El enfoque principal es minimizar el uso de memoria mediante la lectura del archivo línea por línea en lugar de cargar todo el archivo en la memoria a la vez. Se utiliza un `defaultdict` anidado para contar los tweets por usuario para cada fecha. Esto permite mantener los datos en una estructura compacta y eficiente. La función finaliza seleccionando las 10 fechas con más tweets y encontrando el usuario más activo en cada una de esas fechas."
   ]
  },
  {
   "cell_type": "code",
   "execution_count": 2,
   "metadata": {},
   "outputs": [
    {
     "name": "stdout",
     "output_type": "stream",
     "text": [
      "Time taken by q1_memory: 2.6148 seconds\n",
      "Memory usage (in MiB): [72.859375, 72.91015625, 73.5078125, 73.90625, 74.078125, 74.39453125, 74.73828125, 75.01171875, 75.15625, 75.30859375, 75.40625, 75.55859375, 75.76953125, 76.32421875, 76.5078125, 76.796875, 76.921875, 77.0625, 77.1953125, 77.40234375, 77.55078125, 77.69140625, 77.828125, 77.97265625, 78.125, 77.125]\n",
      "Results (Memory Optimized): [(datetime.date(2021, 2, 12), 'RanbirS00614606'), (datetime.date(2021, 2, 13), 'MaanDee08215437'), (datetime.date(2021, 2, 17), 'RaaJVinderkaur'), (datetime.date(2021, 2, 16), 'jot__b'), (datetime.date(2021, 2, 14), 'rebelpacifist'), (datetime.date(2021, 2, 18), 'neetuanjle_nitu'), (datetime.date(2021, 2, 15), 'jot__b'), (datetime.date(2021, 2, 20), 'MangalJ23056160'), (datetime.date(2021, 2, 23), 'Surrypuria'), (datetime.date(2021, 2, 19), 'Preetm91')]\n"
     ]
    }
   ],
   "source": [
    "# Llamamos a la función optimizada en memoria\n",
    "from q1_memory import q1_memory\n",
    "\n",
    "# Medir memoria y tiempo de ejecución\n",
    "mem_usage, result = memory_usage((q1_memory, (file_path,)), retval=True)\n",
    "\n",
    "# Imprimir resultados\n",
    "print(\"Memory usage (in MiB):\", mem_usage)\n",
    "print(\"Results (Memory Optimized):\", result)"
   ]
  },
  {
   "cell_type": "markdown",
   "metadata": {},
   "source": [
    "## q1_time\n",
    "\n",
    "**Enfoque de Optimización de Tiempo:**\n",
    "\n",
    "La función `q1_time` busca las 10 fechas con más tweets y el usuario más activo en esas fechas, pero está optimizada para tiempo de ejecución. Se lee el archivo de tweets y se almacenan los datos en una lista. Se utiliza la clase `Counter` para identificar rápidamente las fechas más comunes y los usuarios más activos en esas fechas. Este enfoque permite procesar grandes volúmenes de datos rápidamente al aprovechar estructuras de datos eficientes para contar y clasificar."
   ]
  },
  {
   "cell_type": "code",
   "execution_count": 3,
   "metadata": {},
   "outputs": [
    {
     "name": "stdout",
     "output_type": "stream",
     "text": [
      "Time taken by q1_time: 2.6674 seconds\n",
      "Memory usage (in MiB): [77.125, 77.12890625, 77.7734375, 77.96484375, 77.4765625, 77.703125, 77.70703125, 77.8359375, 77.86328125, 77.86328125, 77.93359375, 77.94140625, 77.94140625, 77.94140625, 77.99609375, 78.11328125, 78.140625, 78.140625, 78.20703125, 78.2734375, 78.2734375, 78.2734375, 78.30859375, 78.33984375, 78.55078125, 78.55078125, 77.11328125]\n",
      "Results (Time Optimized): [(datetime.date(2021, 2, 12), 'RanbirS00614606'), (datetime.date(2021, 2, 13), 'MaanDee08215437'), (datetime.date(2021, 2, 17), 'RaaJVinderkaur'), (datetime.date(2021, 2, 16), 'jot__b'), (datetime.date(2021, 2, 14), 'rebelpacifist'), (datetime.date(2021, 2, 18), 'neetuanjle_nitu'), (datetime.date(2021, 2, 15), 'jot__b'), (datetime.date(2021, 2, 20), 'MangalJ23056160'), (datetime.date(2021, 2, 23), 'Surrypuria'), (datetime.date(2021, 2, 19), 'Preetm91')]\n"
     ]
    }
   ],
   "source": [
    "# Llamamos a la función optimizada en memoria\n",
    "from q1_time import q1_time\n",
    "\n",
    "# Medir memoria y tiempo de ejecución\n",
    "mem_usage, result = memory_usage((q1_time, (file_path,)), retval=True)\n",
    "\n",
    "# Imprimir resultados\n",
    "print(\"Memory usage (in MiB):\", mem_usage)\n",
    "print(\"Results (Time Optimized):\", result)"
   ]
  },
  {
   "cell_type": "markdown",
   "metadata": {},
   "source": [
    "## q2_time\n",
    "\n",
    "**Enfoque de Optimización de Tiempo:**\n",
    "\n",
    "La función `q2_time` identifica los 10 emojis más comunes en los tweets, optimizada para tiempo de ejecución. En lugar de leer y procesar cada línea individualmente, la función carga todos los tweets en la memoria y crea un solo string con todo el contenido. Luego, `emoji_list` se utiliza para extraer los emojis de este gran string. Finalmente, se utiliza un `Counter` para contar los emojis y devolver los más comunes. Este enfoque minimiza el tiempo de procesamiento al reducir las operaciones repetitivas."
   ]
  },
  {
   "cell_type": "code",
   "execution_count": 4,
   "metadata": {},
   "outputs": [
    {
     "name": "stdout",
     "output_type": "stream",
     "text": [
      "Time taken by q2_time: 9.2706 seconds\n",
      "Memory usage (in MiB): [82.34765625, 82.34765625, 84.25, 84.39453125, 84.5546875, 84.62109375, 84.62109375, 84.625, 84.625, 84.62890625, 84.63671875, 84.71484375, 84.80859375, 84.8125, 84.8125, 84.90234375, 84.9375, 84.94140625, 84.9453125, 84.9453125, 84.9453125, 84.9453125, 84.94921875, 84.95703125, 84.95703125, 84.95703125, 84.95703125, 84.95703125, 84.95703125, 84.95703125, 84.95703125, 84.95703125, 84.95703125, 84.95703125, 84.9609375, 85.01171875, 85.046875, 85.07421875, 85.07421875, 85.07421875, 85.07421875, 85.078125, 85.078125, 85.078125, 85.078125, 85.078125, 85.078125, 85.08984375, 85.08984375, 85.08984375, 85.09375, 85.09375, 85.09375, 85.09375, 85.09375, 85.09375, 85.09375, 85.09375, 85.09375, 85.09375, 85.12109375, 85.125, 85.125, 85.13671875, 85.14453125, 85.14453125, 85.1484375, 85.30859375, 85.30859375, 85.3359375, 85.3359375, 85.3359375, 85.3359375, 85.3359375, 85.3359375, 85.3359375, 85.3359375, 85.3359375, 85.3359375, 85.3359375, 85.390625, 85.44921875, 85.51171875, 85.51171875, 85.55859375, 85.6171875, 85.6171875, 85.6171875]\n",
      "Results (Memory Optimized): [('🙏', 5049), ('😂', 3072), ('🚜', 2972), ('🌾', 2182), ('🇮🇳', 2086), ('🤣', 1668), ('✊', 1651), ('❤️', 1382), ('🙏🏻', 1317), ('💚', 1040)]\n"
     ]
    }
   ],
   "source": [
    "# Llamamos a la función optimizada en memoria\n",
    "from q2_time import q2_time\n",
    "# Ejecutar la función y medir el uso de memoria y tiempo de ejecución\n",
    "mem_usage, result = memory_usage((q2_time, (file_path,)), retval=True)\n",
    "\n",
    "# Imprimir resultados\n",
    "print(\"Memory usage (in MiB):\", mem_usage)\n",
    "print(\"Results (Memory Optimized):\", result)"
   ]
  },
  {
   "cell_type": "markdown",
   "metadata": {},
   "source": [
    "## q2_memory\n",
    "\n",
    "**Enfoque de Optimización de Memoria:**\n",
    "\n",
    "La función `q2_memory` está diseñada para identificar los 10 emojis más comunes en los tweets. Para optimizar el uso de memoria, la función lee el archivo línea por línea y utiliza un `Counter` para contar los emojis encontrados en cada línea. La función `emoji_list` se utiliza para extraer los emojis de cada tweet, y el contador se actualiza incrementalmente. Este enfoque permite procesar el archivo de manera eficiente sin cargar todo el contenido en la memoria a la vez."
   ]
  },
  {
   "cell_type": "code",
   "execution_count": 5,
   "metadata": {},
   "outputs": [
    {
     "name": "stdout",
     "output_type": "stream",
     "text": [
      "Time taken by q2_memory: 9.1850 seconds\n",
      "Memory usage (in MiB): [85.6484375, 85.6484375, 118.99609375, 152.8984375, 192.453125, 230.9140625, 269.6328125, 303.48046875, 334.203125, 368.3671875, 397.6640625, 428.09375, 463.98828125, 496.0390625, 498.41796875, 501.17578125, 504.76171875, 507.35546875, 510.41015625, 513.46875, 516.15625, 518.5546875, 521.51171875, 524.34375, 527.84765625, 531.42578125, 532.91796875, 536.3359375, 585.3828125, 585.40234375, 585.41015625, 585.41015625, 585.41015625, 585.41015625, 585.41015625, 585.41015625, 585.41015625, 585.56640625, 585.8671875, 586.07421875, 586.3671875, 586.63671875, 586.8203125, 587.00390625, 587.203125, 587.43359375, 587.6484375, 587.83203125, 587.99609375, 588.16796875, 588.44140625, 588.6640625, 588.9140625, 589.15625, 589.37890625, 589.59375, 589.8828125, 590.13671875, 590.28125, 590.4609375, 590.66796875, 590.875, 591.04296875, 591.203125, 591.4375, 591.61328125, 591.8203125, 591.98828125, 592.1328125, 592.42578125, 592.671875, 592.83203125, 593.07421875, 593.3515625, 593.5703125, 593.83984375, 594.0625, 594.25, 594.44140625, 594.7265625, 595.03125, 595.2890625, 595.5703125, 595.97265625, 596.1875, 596.51171875, 596.734375, 90.8515625]\n",
      "Results (Time Optimized): [('🙏', 5049), ('😂', 3072), ('🚜', 2972), ('🌾', 2182), ('🇮🇳', 2086), ('🤣', 1668), ('✊', 1651), ('❤️', 1382), ('🙏🏻', 1317), ('💚', 1040)]\n"
     ]
    }
   ],
   "source": [
    "# Llamamos a la función optimizada en memoria\n",
    "from q2_memory import q2_memory\n",
    "\n",
    "# Ejecutar la función y medir el uso de memoria y tiempo de ejecución\n",
    "mem_usage, result = memory_usage((q2_memory, (file_path,)), retval=True)\n",
    "\n",
    "# Imprimir resultados\n",
    "print(\"Memory usage (in MiB):\", mem_usage)\n",
    "print(\"Results (Time Optimized):\", result)"
   ]
  },
  {
   "cell_type": "markdown",
   "metadata": {},
   "source": [
    "## q3_memory\n",
    "\n",
    "**Enfoque de Optimización de Memoria:**\n",
    "\n",
    "La función `q3_memory` busca identificar los 10 usuarios más mencionados en los tweets, optimizada para uso de memoria. La función lee el archivo línea por línea y utiliza un `Counter` para contar las menciones de usuarios. Al procesar cada línea individualmente, la función evita cargar todo el archivo en la memoria a la vez. Este enfoque es eficiente para manejar archivos grandes sin comprometer el rendimiento de la memoria.\n"
   ]
  },
  {
   "cell_type": "code",
   "execution_count": null,
   "metadata": {},
   "outputs": [],
   "source": [
    "# Llamamos a la función optimizada en memoria\n",
    "from q3_memory import q3_memory\n",
    "\n",
    "# Ejecutar la función y medir el uso de memoria y tiempo de ejecución\n",
    "mem_usage, result = memory_usage((q3_memory, (file_path,)), retval=True)\n",
    "\n",
    "# Imprimir resultados\n",
    "print(\"Memory usage (in MiB):\", mem_usage)\n",
    "print(\"Results (Memory Optimized):\", result)"
   ]
  },
  {
   "cell_type": "markdown",
   "metadata": {},
   "source": [
    "## q3_time\n",
    "\n",
    "**Enfoque de Optimización de Tiempo:**\n",
    "\n",
    "La función `q3_time` está diseñada para identificar los 10 usuarios más mencionados en los tweets, optimizada para tiempo de ejecución. La función lee el archivo de tweets en una sola pasada y almacena las listas de usuarios mencionados. Luego, a través de una comprensión de listas, se extraen los usernames y se cuentan utilizando un `Counter`. Este enfoque reduce el tiempo de procesamiento al minimizar las operaciones redundantes y aprovechar estructuras de datos eficientes.\n"
   ]
  },
  {
   "cell_type": "code",
   "execution_count": null,
   "metadata": {},
   "outputs": [],
   "source": [
    "# Llamamos a la función optimizada en memoria\n",
    "from q3_time import q3_time\n",
    "\n",
    "# Ejecutar la función y medir el uso de memoria y tiempo de ejecución\n",
    "mem_usage, result = memory_usage((q3_time, (file_path,)), retval=True)\n",
    "\n",
    "# Imprimir resultados\n",
    "print(\"Memory usage (in MiB):\", mem_usage)\n",
    "print(\"Results (Memory Optimized):\", result)"
   ]
  }
 ],
 "metadata": {
  "kernelspec": {
   "display_name": "Python 3",
   "language": "python",
   "name": "python3"
  },
  "language_info": {
   "codemirror_mode": {
    "name": "ipython",
    "version": 3
   },
   "file_extension": ".py",
   "mimetype": "text/x-python",
   "name": "python",
   "nbconvert_exporter": "python",
   "pygments_lexer": "ipython3",
   "version": "3.11.6"
  },
  "orig_nbformat": 4
 },
 "nbformat": 4,
 "nbformat_minor": 2
}
