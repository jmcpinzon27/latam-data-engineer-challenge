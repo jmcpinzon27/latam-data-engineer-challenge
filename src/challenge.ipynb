{
 "cells": [
  {
   "cell_type": "markdown",
   "metadata": {},
   "source": [
    "## LATAM DATA ENGINEER CHALLENGE\n",
    "\n",
    "**Mateo Castellanos**\n",
    "\n",
    "**27 Julio 2024**"
   ]
  },
  {
   "cell_type": "markdown",
   "metadata": {},
   "source": [
    "**Configuración global del notebook**\n",
    "\n",
    "Este es un notebook con instrucciones de ejecución y explicación de los enfoques en las funciones\n",
    "\n",
    "- Importación de librerías globales para la lectura de los datos\n",
    "- Definición de la fuente de los datos\n",
    "- Verificación de la existencia de los datos\n"
   ]
  },
  {
   "cell_type": "code",
   "execution_count": 14,
   "metadata": {},
   "outputs": [
    {
     "name": "stdout",
     "output_type": "stream",
     "text": [
      "Using data file: ..\\data\\farmers-protest-tweets-2021-2-4.json\n"
     ]
    }
   ],
   "source": [
    "# Configuración inicial\n",
    "import os\n",
    "from typing import List, Tuple\n",
    "from datetime import datetime\n",
    "import json\n",
    "from collections import defaultdict, Counter\n",
    "import time\n",
    "from memory_profiler import memory_usage\n",
    "\n",
    "# Definir la ruta del archivo de datos\n",
    "data_dir = os.path.join('..', 'data')\n",
    "file_name = 'farmers-protest-tweets-2021-2-4.json'\n",
    "file_path = os.path.join(data_dir, file_name)\n",
    "\n",
    "# Verificar si el archivo existe\n",
    "if not os.path.exists(file_path):\n",
    "    raise FileNotFoundError(f\"The file {file_path} does not exist.\")\n",
    "\n",
    "print(f\"Using data file: {file_path}\")"
   ]
  },
  {
   "cell_type": "markdown",
   "metadata": {},
   "source": [
    "## q1_memory\n",
    "\n",
    "**Enfoque de Optimización de Memoria:**\n",
    "\n",
    "La función `q1_memory` está diseñada para identificar las 10 fechas con más tweets y el usuario más activo en cada una de esas fechas. El enfoque principal es minimizar el uso de memoria mediante la lectura del archivo línea por línea en lugar de cargar todo el archivo en la memoria a la vez. Se utiliza un `defaultdict` anidado para contar los tweets por usuario para cada fecha. Esto permite mantener los datos en una estructura compacta y eficiente. La función finaliza seleccionando las 10 fechas con más tweets y encontrando el usuario más activo en cada una de esas fechas."
   ]
  },
  {
   "cell_type": "code",
   "execution_count": 15,
   "metadata": {},
   "outputs": [
    {
     "name": "stdout",
     "output_type": "stream",
     "text": [
      "Time taken by q1_memory: 2.7662 seconds\n",
      "Memory usage (in MiB): [93.3046875, 93.37109375, 93.875, 94.08984375, 94.18359375, 94.4140625, 94.51953125, 94.66015625, 94.6875, 94.84765625, 94.94140625, 95.0625, 95.09375, 95.19921875, 95.21484375, 95.3125, 95.3125, 95.42578125, 95.42578125, 95.57421875, 95.57421875, 95.625, 95.64453125, 95.6796875, 95.6875, 95.703125, 95.8203125, 93.546875]\n",
      "Results (Memory Optimized): [(datetime.date(2021, 2, 12), 'RanbirS00614606'), (datetime.date(2021, 2, 13), 'MaanDee08215437'), (datetime.date(2021, 2, 17), 'RaaJVinderkaur'), (datetime.date(2021, 2, 16), 'jot__b'), (datetime.date(2021, 2, 14), 'rebelpacifist'), (datetime.date(2021, 2, 18), 'neetuanjle_nitu'), (datetime.date(2021, 2, 15), 'jot__b'), (datetime.date(2021, 2, 20), 'MangalJ23056160'), (datetime.date(2021, 2, 23), 'Surrypuria'), (datetime.date(2021, 2, 19), 'Preetm91')]\n"
     ]
    }
   ],
   "source": [
    "# Llamamos a la función optimizada en memoria\n",
    "from q1_memory import q1_memory\n",
    "\n",
    "# Medir memoria y tiempo de ejecución\n",
    "mem_usage, result = memory_usage((q1_memory, (file_path,)), retval=True)\n",
    "\n",
    "# Imprimir resultados\n",
    "print(\"Memory usage (in MiB):\", mem_usage)\n",
    "print(\"Results (Memory Optimized):\", result)"
   ]
  },
  {
   "cell_type": "markdown",
   "metadata": {},
   "source": [
    "## q1_time\n",
    "\n",
    "**Enfoque de Optimización de Tiempo:**\n",
    "\n",
    "La función `q1_time` busca las 10 fechas con más tweets y el usuario más activo en esas fechas, pero está optimizada para tiempo de ejecución. Se lee el archivo de tweets y se almacenan los datos en una lista. Se utiliza la clase `Counter` para identificar rápidamente las fechas más comunes y los usuarios más activos en esas fechas. Este enfoque permite procesar grandes volúmenes de datos rápidamente al aprovechar estructuras de datos eficientes para contar y clasificar.\n"
   ]
  },
  {
   "cell_type": "code",
   "execution_count": 16,
   "metadata": {},
   "outputs": [
    {
     "name": "stdout",
     "output_type": "stream",
     "text": [
      "Time taken by q1_time: 2.7517 seconds\n",
      "Memory usage (in MiB): [93.546875, 93.5625, 94.0, 94.1171875, 94.44921875, 94.5, 94.69921875, 94.80078125, 94.8359375, 94.96875, 94.96875, 95.0703125, 95.2109375, 95.22265625, 95.33984375, 95.36328125, 95.375, 95.48828125, 95.49609375, 95.64453125, 95.64453125, 95.8125, 95.83203125, 95.8671875, 95.8671875, 95.87109375, 95.9375, 93.78515625]\n",
      "Results (Time Optimized): [(datetime.date(2021, 2, 12), 'RanbirS00614606'), (datetime.date(2021, 2, 13), 'MaanDee08215437'), (datetime.date(2021, 2, 17), 'RaaJVinderkaur'), (datetime.date(2021, 2, 16), 'jot__b'), (datetime.date(2021, 2, 14), 'rebelpacifist'), (datetime.date(2021, 2, 18), 'neetuanjle_nitu'), (datetime.date(2021, 2, 15), 'jot__b'), (datetime.date(2021, 2, 20), 'MangalJ23056160'), (datetime.date(2021, 2, 23), 'Surrypuria'), (datetime.date(2021, 2, 19), 'Preetm91')]\n"
     ]
    }
   ],
   "source": [
    "# Llamamos a la función optimizada en memoria\n",
    "from q1_time import q1_time\n",
    "\n",
    "# Medir memoria y tiempo de ejecución\n",
    "mem_usage, result = memory_usage((q1_time, (file_path,)), retval=True)\n",
    "\n",
    "# Imprimir resultados\n",
    "print(\"Memory usage (in MiB):\", mem_usage)\n",
    "print(\"Results (Time Optimized):\", result)"
   ]
  }
 ],
 "metadata": {
  "kernelspec": {
   "display_name": "Python 3",
   "language": "python",
   "name": "python3"
  },
  "language_info": {
   "codemirror_mode": {
    "name": "ipython",
    "version": 3
   },
   "file_extension": ".py",
   "mimetype": "text/x-python",
   "name": "python",
   "nbconvert_exporter": "python",
   "pygments_lexer": "ipython3",
   "version": "3.11.6"
  },
  "orig_nbformat": 4
 },
 "nbformat": 4,
 "nbformat_minor": 2
}
